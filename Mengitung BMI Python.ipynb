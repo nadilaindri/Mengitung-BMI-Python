{
 "cells": [
  {
   "cell_type": "code",
   "execution_count": 1,
   "metadata": {},
   "outputs": [
    {
     "name": "stdout",
     "output_type": "stream",
     "text": [
      "masukkan berat badan(kg) : 23\n",
      "masukkan tinggi badan(cm) : 140\n",
      "status = gemuk\n"
     ]
    }
   ],
   "source": [
    "bb = int(input(\"masukkan berat badan(kg) : \"))\n",
    "tinggi = float(input(\"masukkan tinggi badan(cm) : \"))\n",
    "tinggi = tinggi * 0.01\n",
    "bmi = bb/(tinggi**2)\n",
    "\n",
    "if bb < 17.5:\n",
    "    print(\" status = kurus\")\n",
    "elif bb >= 17.5 and bb<= 22.3:\n",
    "    print(\"status = ideal\")\n",
    "elif bb >=23 and bb<= 25.5:\n",
    "    print(\"status = gemuk\")\n",
    "else :\n",
    "    print(\"status = obesitas\")"
   ]
  },
  {
   "cell_type": "code",
   "execution_count": null,
   "metadata": {},
   "outputs": [],
   "source": []
  }
 ],
 "metadata": {
  "kernelspec": {
   "display_name": "Python 3",
   "language": "python",
   "name": "python3"
  },
  "language_info": {
   "codemirror_mode": {
    "name": "ipython",
    "version": 3
   },
   "file_extension": ".py",
   "mimetype": "text/x-python",
   "name": "python",
   "nbconvert_exporter": "python",
   "pygments_lexer": "ipython3",
   "version": "3.7.3"
  }
 },
 "nbformat": 4,
 "nbformat_minor": 2
}
